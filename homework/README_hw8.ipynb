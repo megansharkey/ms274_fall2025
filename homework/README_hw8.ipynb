{
 "cells": [
  {
   "cell_type": "markdown",
   "id": "1fa00bfc-2f25-414f-9671-f00e0437fa81",
   "metadata": {},
   "source": [
    "## **README File**\n",
    "\n",
    "Megan Sharkey <br>\n",
    "Homework #8 <br>\n",
    "October 15th, 2025"
   ]
  },
  {
   "cell_type": "markdown",
   "id": "aa1c3a09-2fe7-4b6b-9a56-14206a8fa293",
   "metadata": {},
   "source": [
    "#### **Experiment Description**"
   ]
  },
  {
   "cell_type": "markdown",
   "id": "ee54aa09-69a6-48b6-96e7-f87c5c4c82eb",
   "metadata": {},
   "source": [
    "In this project, I will investigate how enhanced submarine melt influences fjord-scale circulation and vertical transport processes in the waters surrounding the Greenland Ice Sheet. Specifically, I will focus on the Nuup Kangerlua fjord system in West Greenland, a region characterized by complex physical–biogeochemical interactions that regulate nutrient supply and primary productivity.<br>\n",
    "<br>\n",
    "The central research question guiding this work is:<br>\n",
    "<br>\n",
    "_How does meltwater-driven upwelling modify the vertical transport of nutrients and influence nitrate availability in Nuup Kangerlua?_ <br>\n",
    "<br>\n",
    "To investigate this question, I will construct a model of Nuup Kangerlua using the MIT General Circulation Model (MITgcm) for the year of 2019, the year with the most complete and accurate observational data available for this region. I will run two experiments: one with baseline subglacial discharge and another with enhanced discharge to simulate increased submarine meltwater input. These experiments will allow me to assess how variations in meltwater forcing affect temperature, salinity, and vertical velocity, and how these physical processes influence nitrate supply to the euphotic zone.<br>\n",
    "<br>\n",
    "For initial and boundary conditions, I will use outputs from the ECCO Version 5 model. Bathymetry will be based on GEBCO’s global bathymetric grids. For nitrate concentrations in the Nuuk region, I will use monthly water column data collected by the Greenland Ecosystem Monitoring (GEM) program. To analyze the results, I will create a movie visualizing the nitrate concentrations in the fjord over time, as well as a timeseries of nitrate concentrations for both model runs to compare conditions. <br>\n",
    "<br>\n",
    "I anticipate that the model with increased submarine meltwater input will exhibit stronger upwelling, and therefore introduce more nutrient-rich deep water into the mixed layer, resulting in higher nitrate concentrations within the euphotic zone.\n"
   ]
  }
 ],
 "metadata": {
  "kernelspec": {
   "display_name": "ms274",
   "language": "python",
   "name": "ms274"
  },
  "language_info": {
   "codemirror_mode": {
    "name": "ipython",
    "version": 3
   },
   "file_extension": ".py",
   "mimetype": "text/x-python",
   "name": "python",
   "nbconvert_exporter": "python",
   "pygments_lexer": "ipython3",
   "version": "3.12.3"
  }
 },
 "nbformat": 4,
 "nbformat_minor": 5
}
